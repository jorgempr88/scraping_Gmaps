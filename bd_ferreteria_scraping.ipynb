{
 "cells": [
  {
   "cell_type": "code",
   "execution_count": 51,
   "metadata": {},
   "outputs": [],
   "source": [
    "import time\n",
    "from selenium import webdriver\n",
    "from selenium.webdriver.chrome.service import Service\n",
    "from selenium.webdriver.common.by import By\n",
    "from selenium.common.exceptions import NoSuchElementException\n",
    "import pandas as pd\n",
    "\n",
    "path = Service('C:\\\\Users\\\\Ary\\\\Desktop\\\\programas\\\\chromedriver.exe')\n",
    "browser = webdriver.Chrome(service = path)\n",
    "browser.get(\"https://www.google.com/maps/\")\n"
   ]
  },
  {
   "cell_type": "code",
   "execution_count": 52,
   "metadata": {},
   "outputs": [],
   "source": [
    "buscador = browser.find_element(By.XPATH, '//*[@id=\"searchboxinput\"]')"
   ]
  },
  {
   "cell_type": "code",
   "execution_count": 53,
   "metadata": {},
   "outputs": [],
   "source": [
    "buscador.send_keys('ferreterias en caba')"
   ]
  },
  {
   "cell_type": "code",
   "execution_count": 54,
   "metadata": {},
   "outputs": [],
   "source": [
    "valid_buscador = browser.find_element(By.XPATH, '//*[@id=\"searchbox-searchbutton\"]')"
   ]
  },
  {
   "cell_type": "code",
   "execution_count": 55,
   "metadata": {},
   "outputs": [],
   "source": [
    "valid_buscador.click()"
   ]
  },
  {
   "cell_type": "code",
   "execution_count": 79,
   "metadata": {},
   "outputs": [],
   "source": [
    "#segundo apartado [245]\n",
    "valid_ferreteria = browser.find_element(By.XPATH, '//*[@id=\"QA0Szd\"]/div/div/div[1]/div[2]/div/div[1]/div/div/div[2]/div[1]/div[7]/div/a')\n",
    "                                                   \n",
    "valid_ferreteria.click()                                                 "
   ]
  },
  {
   "cell_type": "code",
   "execution_count": 80,
   "metadata": {},
   "outputs": [
    {
     "data": {
      "text/plain": [
       "'Ferretería Soluciones Integrales'"
      ]
     },
     "execution_count": 80,
     "metadata": {},
     "output_type": "execute_result"
    }
   ],
   "source": [
    "nombre = browser.find_element(By.XPATH, '//*[@id=\"QA0Szd\"]/div/div/div[1]/div[3]/div/div[1]/div/div/div[2]/div[2]/div[1]/div[1]/div[1]/h1/span[1]')\n",
    "                                        \n",
    "nombre.text"
   ]
  },
  {
   "cell_type": "code",
   "execution_count": null,
   "metadata": {},
   "outputs": [],
   "source": [
    "direc = browser.find_element(By.CSS_SELECTOR, \"[data-item-id='address']\")\n",
    "direc.text\n"
   ]
  },
  {
   "cell_type": "code",
   "execution_count": 65,
   "metadata": {},
   "outputs": [
    {
     "data": {
      "text/plain": [
       "'011 5516-0145'"
      ]
     },
     "execution_count": 65,
     "metadata": {},
     "output_type": "execute_result"
    }
   ],
   "source": [
    "numero = browser.find_element(By.XPATH, '//*[@id=\"QA0Szd\"]/div/div/div[1]/div[3]/div/div[1]/div/div/div[2]/div[9]/div[5]/button/div[1]/div[2]/div[1]')\n",
    "numero.text                                     "
   ]
  },
  {
   "cell_type": "code",
   "execution_count": 98,
   "metadata": {},
   "outputs": [],
   "source": [
    "def get_name():\n",
    "    try:\n",
    "        return browser.find_element(By.XPATH, '//*[@id=\"QA0Szd\"]/div/div/div[1]/div[3]/div/div[1]/div/div/div[2]/div[2]/div[1]/div[1]/div[1]/h1/span[1]').text\n",
    "    except:\n",
    "        return \"\"\n",
    "       \n",
    "def get_address():\n",
    "    try:\n",
    "        return browser.find_element(By.CSS_SELECTOR, \"[data-item-id='address']\").text\n",
    "    except:\n",
    "        return \"\"\n",
    "       \n",
    "def get_phone():\n",
    "    try:\n",
    "        return browser.find_element(By.CSS_SELECTOR, \"[data-tooltip='Copiar el número de teléfono']\").text\n",
    "    except:\n",
    "        return \"\"\n",
    "       "
   ]
  },
  {
   "cell_type": "code",
   "execution_count": null,
   "metadata": {},
   "outputs": [],
   "source": [
    "#function extraer datos\n",
    "def scraping():\n",
    "    # listas\n",
    "    nom = []\n",
    "    dir = []\n",
    "    num = []\n",
    "        \n",
    "    for i in range(3,246,2):\n",
    "        time.sleep(2)\n",
    "        browser.execute_script(\"window.scrollTo(0,1000);\")\n",
    "        time.sleep(2)\n",
    "        valid_ferreteria = browser.find_element(By.XPATH, \"\"\"//*[@id=\"QA0Szd\"]/div/div/div[1]/div[2]/div/div[1]/div/div/div[2]/div[1]/div[\"\"\"+str(i)+\"\"\"]/div/a\"\"\")\n",
    "        valid_ferreteria.click()\n",
    "        time.sleep(2)\n",
    "        #nombre\n",
    "        nombre = get_name()                              \n",
    "        nom.append(nombre)\n",
    "        time.sleep(2)\n",
    "        direc = get_address()\n",
    "        dir.append(direc)\n",
    "        time.sleep(2)\n",
    "        numero = browser.find_element(By.CSS_SELECTOR, \"[data-tooltip='Copiar el número de teléfono']\")\n",
    "        numero.text\n",
    "        num.append(numero.text)\n",
    "        print(numero.text)\n",
    "        browser.back()\n",
    "\n",
    "    return nom, dir, num\n"
   ]
  },
  {
   "cell_type": "code",
   "execution_count": null,
   "metadata": {},
   "outputs": [],
   "source": [
    "#extracciopn de lista\n",
    "inter_list = scraping()\n",
    "nombre = inter_list[0]\n",
    "direccion = inter_list[1]\n",
    "numero = inter_list[2]"
   ]
  },
  {
   "cell_type": "code",
   "execution_count": null,
   "metadata": {},
   "outputs": [],
   "source": [
    "my_dict = {'nombre': nombre, 'Price': direccion, 'Star_punctuation': numero}\n",
    "\n",
    "df = pd.DataFrame(my_dict, columns= ['Book_name', 'Price', 'Star_punctuation'])"
   ]
  }
 ],
 "metadata": {
  "kernelspec": {
   "display_name": "Python 3",
   "language": "python",
   "name": "python3"
  },
  "language_info": {
   "codemirror_mode": {
    "name": "ipython",
    "version": 3
   },
   "file_extension": ".py",
   "mimetype": "text/x-python",
   "name": "python",
   "nbconvert_exporter": "python",
   "pygments_lexer": "ipython3",
   "version": "3.10.4 (tags/v3.10.4:9d38120, Mar 23 2022, 23:13:41) [MSC v.1929 64 bit (AMD64)]"
  },
  "orig_nbformat": 4,
  "vscode": {
   "interpreter": {
    "hash": "293131cabcc63df1d139afa17328122b1a4ea3cc7c9b7482572cd93e918a5b3d"
   }
  }
 },
 "nbformat": 4,
 "nbformat_minor": 2
}
